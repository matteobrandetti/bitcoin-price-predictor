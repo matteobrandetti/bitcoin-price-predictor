{
  "nbformat": 4,
  "nbformat_minor": 0,
  "metadata": {
    "colab": {
      "name": "ForecastingBitcoinPrice10minMultipleStep.ipynb",
      "provenance": [],
      "collapsed_sections": [],
      "toc_visible": true
    },
    "kernelspec": {
      "display_name": "Python 3",
      "name": "python3"
    }
  },
  "cells": [
    {
      "cell_type": "code",
      "metadata": {
        "id": "JwZ3ta5SAkP7"
      },
      "source": [
        "import io\n",
        "from google.colab import files\n",
        "from keras.models import Sequential\n",
        "import tensorflow as tf\n",
        "from keras.layers import Activation, Dense, Dropout, LSTM\n",
        "import matplotlib.pyplot as plt\n",
        "import matplotlib as mpl\n",
        "import numpy as np\n",
        "import pandas as pd\n",
        "from math import isnan\n",
        "import seaborn as sn\n",
        "import datetime\n",
        "from tensorflow import keras\n",
        "from sklearn.preprocessing import StandardScaler\n",
        "from sklearn.preprocessing import MinMaxScaler\n",
        "from keras.preprocessing.sequence import TimeseriesGenerator\n",
        "from google.colab import drive\n",
        "%matplotlib inline\n",
        "import requests\n",
        "import networkx as nx"
      ],
      "execution_count": 103,
      "outputs": []
    },
    {
      "cell_type": "code",
      "metadata": {
        "colab": {
          "base_uri": "https://localhost:8080/"
        },
        "id": "N1FfG-9ZA3Mp",
        "outputId": "baebc883-416a-4fdd-f2b2-8fe7ccbc083d"
      },
      "source": [
        "drive.mount('/content/drive')"
      ],
      "execution_count": 104,
      "outputs": [
        {
          "output_type": "stream",
          "text": [
            "Drive already mounted at /content/drive; to attempt to forcibly remount, call drive.mount(\"/content/drive\", force_remount=True).\n"
          ],
          "name": "stdout"
        }
      ]
    },
    {
      "cell_type": "markdown",
      "metadata": {
        "id": "1G_5IZzVKRV3"
      },
      "source": [
        "# Inspect Data"
      ]
    },
    {
      "cell_type": "code",
      "metadata": {
        "id": "9BKfPT54Ef00"
      },
      "source": [
        "with open('/content/drive/My Drive/MachineLearningProject/Dataset/bitstampUSD_1-min_data_2012-01-01_to_2020-12-31.csv', 'r') as f:\n",
        "  hist = pd.read_csv(f)"
      ],
      "execution_count": 105,
      "outputs": []
    },
    {
      "cell_type": "code",
      "metadata": {
        "colab": {
          "base_uri": "https://localhost:8080/",
          "height": 204
        },
        "id": "OdsA1-ip6Yo0",
        "outputId": "6b75f3ec-b2d6-4af1-fa7e-052944a0d9c3"
      },
      "source": [
        "hist.head()"
      ],
      "execution_count": 106,
      "outputs": [
        {
          "output_type": "execute_result",
          "data": {
            "text/html": [
              "<div>\n",
              "<style scoped>\n",
              "    .dataframe tbody tr th:only-of-type {\n",
              "        vertical-align: middle;\n",
              "    }\n",
              "\n",
              "    .dataframe tbody tr th {\n",
              "        vertical-align: top;\n",
              "    }\n",
              "\n",
              "    .dataframe thead th {\n",
              "        text-align: right;\n",
              "    }\n",
              "</style>\n",
              "<table border=\"1\" class=\"dataframe\">\n",
              "  <thead>\n",
              "    <tr style=\"text-align: right;\">\n",
              "      <th></th>\n",
              "      <th>Timestamp</th>\n",
              "      <th>Open</th>\n",
              "      <th>High</th>\n",
              "      <th>Low</th>\n",
              "      <th>Close</th>\n",
              "      <th>Volume_(BTC)</th>\n",
              "      <th>Volume_(Currency)</th>\n",
              "      <th>Weighted_Price</th>\n",
              "    </tr>\n",
              "  </thead>\n",
              "  <tbody>\n",
              "    <tr>\n",
              "      <th>0</th>\n",
              "      <td>1325317920</td>\n",
              "      <td>4.39</td>\n",
              "      <td>4.39</td>\n",
              "      <td>4.39</td>\n",
              "      <td>4.39</td>\n",
              "      <td>0.455581</td>\n",
              "      <td>2.0</td>\n",
              "      <td>4.39</td>\n",
              "    </tr>\n",
              "    <tr>\n",
              "      <th>1</th>\n",
              "      <td>1325317980</td>\n",
              "      <td>NaN</td>\n",
              "      <td>NaN</td>\n",
              "      <td>NaN</td>\n",
              "      <td>NaN</td>\n",
              "      <td>NaN</td>\n",
              "      <td>NaN</td>\n",
              "      <td>NaN</td>\n",
              "    </tr>\n",
              "    <tr>\n",
              "      <th>2</th>\n",
              "      <td>1325318040</td>\n",
              "      <td>NaN</td>\n",
              "      <td>NaN</td>\n",
              "      <td>NaN</td>\n",
              "      <td>NaN</td>\n",
              "      <td>NaN</td>\n",
              "      <td>NaN</td>\n",
              "      <td>NaN</td>\n",
              "    </tr>\n",
              "    <tr>\n",
              "      <th>3</th>\n",
              "      <td>1325318100</td>\n",
              "      <td>NaN</td>\n",
              "      <td>NaN</td>\n",
              "      <td>NaN</td>\n",
              "      <td>NaN</td>\n",
              "      <td>NaN</td>\n",
              "      <td>NaN</td>\n",
              "      <td>NaN</td>\n",
              "    </tr>\n",
              "    <tr>\n",
              "      <th>4</th>\n",
              "      <td>1325318160</td>\n",
              "      <td>NaN</td>\n",
              "      <td>NaN</td>\n",
              "      <td>NaN</td>\n",
              "      <td>NaN</td>\n",
              "      <td>NaN</td>\n",
              "      <td>NaN</td>\n",
              "      <td>NaN</td>\n",
              "    </tr>\n",
              "  </tbody>\n",
              "</table>\n",
              "</div>"
            ],
            "text/plain": [
              "    Timestamp  Open  High  ...  Volume_(BTC)  Volume_(Currency)  Weighted_Price\n",
              "0  1325317920  4.39  4.39  ...      0.455581                2.0            4.39\n",
              "1  1325317980   NaN   NaN  ...           NaN                NaN             NaN\n",
              "2  1325318040   NaN   NaN  ...           NaN                NaN             NaN\n",
              "3  1325318100   NaN   NaN  ...           NaN                NaN             NaN\n",
              "4  1325318160   NaN   NaN  ...           NaN                NaN             NaN\n",
              "\n",
              "[5 rows x 8 columns]"
            ]
          },
          "metadata": {
            "tags": []
          },
          "execution_count": 106
        }
      ]
    },
    {
      "cell_type": "code",
      "metadata": {
        "colab": {
          "base_uri": "https://localhost:8080/",
          "height": 359
        },
        "id": "5cj75F05GlPv",
        "outputId": "52d41866-7a6f-44fa-d7c1-9e57a58adb35"
      },
      "source": [
        "hist.tail(10)"
      ],
      "execution_count": 107,
      "outputs": [
        {
          "output_type": "execute_result",
          "data": {
            "text/html": [
              "<div>\n",
              "<style scoped>\n",
              "    .dataframe tbody tr th:only-of-type {\n",
              "        vertical-align: middle;\n",
              "    }\n",
              "\n",
              "    .dataframe tbody tr th {\n",
              "        vertical-align: top;\n",
              "    }\n",
              "\n",
              "    .dataframe thead th {\n",
              "        text-align: right;\n",
              "    }\n",
              "</style>\n",
              "<table border=\"1\" class=\"dataframe\">\n",
              "  <thead>\n",
              "    <tr style=\"text-align: right;\">\n",
              "      <th></th>\n",
              "      <th>Timestamp</th>\n",
              "      <th>Open</th>\n",
              "      <th>High</th>\n",
              "      <th>Low</th>\n",
              "      <th>Close</th>\n",
              "      <th>Volume_(BTC)</th>\n",
              "      <th>Volume_(Currency)</th>\n",
              "      <th>Weighted_Price</th>\n",
              "    </tr>\n",
              "  </thead>\n",
              "  <tbody>\n",
              "    <tr>\n",
              "      <th>4727767</th>\n",
              "      <td>1609372260</td>\n",
              "      <td>28836.97</td>\n",
              "      <td>28849.67</td>\n",
              "      <td>28807.78</td>\n",
              "      <td>28826.52</td>\n",
              "      <td>2.051917</td>\n",
              "      <td>59173.965272</td>\n",
              "      <td>28838.376450</td>\n",
              "    </tr>\n",
              "    <tr>\n",
              "      <th>4727768</th>\n",
              "      <td>1609372320</td>\n",
              "      <td>28826.49</td>\n",
              "      <td>28844.25</td>\n",
              "      <td>28816.09</td>\n",
              "      <td>28816.09</td>\n",
              "      <td>0.721410</td>\n",
              "      <td>20803.457100</td>\n",
              "      <td>28837.207539</td>\n",
              "    </tr>\n",
              "    <tr>\n",
              "      <th>4727769</th>\n",
              "      <td>1609372380</td>\n",
              "      <td>28814.36</td>\n",
              "      <td>28822.71</td>\n",
              "      <td>28800.00</td>\n",
              "      <td>28800.00</td>\n",
              "      <td>1.529671</td>\n",
              "      <td>44076.572351</td>\n",
              "      <td>28814.411945</td>\n",
              "    </tr>\n",
              "    <tr>\n",
              "      <th>4727770</th>\n",
              "      <td>1609372440</td>\n",
              "      <td>28800.00</td>\n",
              "      <td>28832.79</td>\n",
              "      <td>28800.00</td>\n",
              "      <td>28831.35</td>\n",
              "      <td>2.036450</td>\n",
              "      <td>58675.679644</td>\n",
              "      <td>28812.732950</td>\n",
              "    </tr>\n",
              "    <tr>\n",
              "      <th>4727771</th>\n",
              "      <td>1609372500</td>\n",
              "      <td>28809.07</td>\n",
              "      <td>28825.50</td>\n",
              "      <td>28800.01</td>\n",
              "      <td>28810.08</td>\n",
              "      <td>0.087391</td>\n",
              "      <td>2517.799582</td>\n",
              "      <td>28810.597267</td>\n",
              "    </tr>\n",
              "    <tr>\n",
              "      <th>4727772</th>\n",
              "      <td>1609372560</td>\n",
              "      <td>28801.47</td>\n",
              "      <td>28829.42</td>\n",
              "      <td>28785.64</td>\n",
              "      <td>28829.42</td>\n",
              "      <td>0.965221</td>\n",
              "      <td>27804.572129</td>\n",
              "      <td>28806.429798</td>\n",
              "    </tr>\n",
              "    <tr>\n",
              "      <th>4727773</th>\n",
              "      <td>1609372620</td>\n",
              "      <td>28829.42</td>\n",
              "      <td>28863.90</td>\n",
              "      <td>28829.42</td>\n",
              "      <td>28857.06</td>\n",
              "      <td>2.368831</td>\n",
              "      <td>68332.350629</td>\n",
              "      <td>28846.441863</td>\n",
              "    </tr>\n",
              "    <tr>\n",
              "      <th>4727774</th>\n",
              "      <td>1609372680</td>\n",
              "      <td>28850.49</td>\n",
              "      <td>28900.52</td>\n",
              "      <td>28850.49</td>\n",
              "      <td>28882.82</td>\n",
              "      <td>2.466590</td>\n",
              "      <td>71232.784464</td>\n",
              "      <td>28879.056266</td>\n",
              "    </tr>\n",
              "    <tr>\n",
              "      <th>4727775</th>\n",
              "      <td>1609372740</td>\n",
              "      <td>28910.54</td>\n",
              "      <td>28911.52</td>\n",
              "      <td>28867.60</td>\n",
              "      <td>28881.30</td>\n",
              "      <td>7.332773</td>\n",
              "      <td>211870.912660</td>\n",
              "      <td>28893.695831</td>\n",
              "    </tr>\n",
              "    <tr>\n",
              "      <th>4727776</th>\n",
              "      <td>1609372800</td>\n",
              "      <td>28893.21</td>\n",
              "      <td>28928.49</td>\n",
              "      <td>28893.21</td>\n",
              "      <td>28928.49</td>\n",
              "      <td>5.757679</td>\n",
              "      <td>166449.709320</td>\n",
              "      <td>28909.166061</td>\n",
              "    </tr>\n",
              "  </tbody>\n",
              "</table>\n",
              "</div>"
            ],
            "text/plain": [
              "          Timestamp      Open  ...  Volume_(Currency)  Weighted_Price\n",
              "4727767  1609372260  28836.97  ...       59173.965272    28838.376450\n",
              "4727768  1609372320  28826.49  ...       20803.457100    28837.207539\n",
              "4727769  1609372380  28814.36  ...       44076.572351    28814.411945\n",
              "4727770  1609372440  28800.00  ...       58675.679644    28812.732950\n",
              "4727771  1609372500  28809.07  ...        2517.799582    28810.597267\n",
              "4727772  1609372560  28801.47  ...       27804.572129    28806.429798\n",
              "4727773  1609372620  28829.42  ...       68332.350629    28846.441863\n",
              "4727774  1609372680  28850.49  ...       71232.784464    28879.056266\n",
              "4727775  1609372740  28910.54  ...      211870.912660    28893.695831\n",
              "4727776  1609372800  28893.21  ...      166449.709320    28909.166061\n",
              "\n",
              "[10 rows x 8 columns]"
            ]
          },
          "metadata": {
            "tags": []
          },
          "execution_count": 107
        }
      ]
    },
    {
      "cell_type": "code",
      "metadata": {
        "colab": {
          "base_uri": "https://localhost:8080/"
        },
        "id": "un9fpC_gDsF1",
        "outputId": "1b95dc95-1e5d-4d03-bed9-6a763c48efec"
      },
      "source": [
        "hist.shape"
      ],
      "execution_count": 108,
      "outputs": [
        {
          "output_type": "execute_result",
          "data": {
            "text/plain": [
              "(4727777, 8)"
            ]
          },
          "metadata": {
            "tags": []
          },
          "execution_count": 108
        }
      ]
    },
    {
      "cell_type": "code",
      "metadata": {
        "colab": {
          "base_uri": "https://localhost:8080/"
        },
        "id": "Obd-QFHBGpOU",
        "outputId": "c7c5abf4-6e8d-4398-9c63-2a5d4daea416"
      },
      "source": [
        "hist_copy = hist.copy()\n",
        "hist.shape"
      ],
      "execution_count": 109,
      "outputs": [
        {
          "output_type": "execute_result",
          "data": {
            "text/plain": [
              "(4727777, 8)"
            ]
          },
          "metadata": {
            "tags": []
          },
          "execution_count": 109
        }
      ]
    },
    {
      "cell_type": "code",
      "metadata": {
        "colab": {
          "base_uri": "https://localhost:8080/"
        },
        "id": "8fSrlz0QgA_X",
        "outputId": "8a43931a-9501-4198-c87b-3ff99434dd70"
      },
      "source": [
        "hist[\"Close\"].max()"
      ],
      "execution_count": 110,
      "outputs": [
        {
          "output_type": "execute_result",
          "data": {
            "text/plain": [
              "28997.38"
            ]
          },
          "metadata": {
            "tags": []
          },
          "execution_count": 110
        }
      ]
    },
    {
      "cell_type": "code",
      "metadata": {
        "colab": {
          "base_uri": "https://localhost:8080/"
        },
        "id": "rTvkYdcSgFma",
        "outputId": "4b370fec-09de-4807-d892-7f255e6f3703"
      },
      "source": [
        "hist[\"Open\"].max()"
      ],
      "execution_count": 111,
      "outputs": [
        {
          "output_type": "execute_result",
          "data": {
            "text/plain": [
              "28997.38"
            ]
          },
          "metadata": {
            "tags": []
          },
          "execution_count": 111
        }
      ]
    },
    {
      "cell_type": "code",
      "metadata": {
        "id": "-7vlYXwjr9mU"
      },
      "source": [
        "hist.drop('Timestamp', axis=1, inplace=True)"
      ],
      "execution_count": 112,
      "outputs": []
    },
    {
      "cell_type": "code",
      "metadata": {
        "id": "2udgraB77of1",
        "colab": {
          "base_uri": "https://localhost:8080/"
        },
        "outputId": "748c6e4d-121b-4108-d6f2-8abad1262e03"
      },
      "source": [
        "hist.isnull().sum()"
      ],
      "execution_count": 113,
      "outputs": [
        {
          "output_type": "execute_result",
          "data": {
            "text/plain": [
              "Open                 1243472\n",
              "High                 1243472\n",
              "Low                  1243472\n",
              "Close                1243472\n",
              "Volume_(BTC)         1243472\n",
              "Volume_(Currency)    1243472\n",
              "Weighted_Price       1243472\n",
              "dtype: int64"
            ]
          },
          "metadata": {
            "tags": []
          },
          "execution_count": 113
        }
      ]
    },
    {
      "cell_type": "code",
      "metadata": {
        "id": "SEQzet9O7vYO"
      },
      "source": [
        "def replace_NaN(df):\n",
        "  old_df = df.copy()\n",
        "  for row_index, row in old_df.iterrows():\n",
        "     column_index = 0\n",
        "     for value in row:\n",
        "       if isnan(value):\n",
        "         df.iloc[row_index, column_index] = df.iloc[row_index-1, column_index] \n",
        "       column_index += 1"
      ],
      "execution_count": 114,
      "outputs": []
    },
    {
      "cell_type": "code",
      "metadata": {
        "id": "Z7rAF8bpFYJe"
      },
      "source": [
        "def replace_NaN_with_median(data):\n",
        "  data['Open'] = data['Open'].fillna(data['Open'].median())\n",
        "  data['High'] = data['High'].fillna(data['High'].median())\n",
        "  data['Low'] = data['Low'].fillna(data['Low'].median())\n",
        "  data['Close'] = data['Close'].fillna(data['Close'].median())\n",
        "  data['Volume_(BTC)'] = data['Volume_(BTC)'].fillna(data['Volume_(BTC)'].median())\n",
        "  data['Volume_(Currency)'] = data['Volume_(Currency)'].fillna(data['Volume_(Currency)'].median())\n",
        "  data['Weighted_Price'] = data['Weighted_Price'].fillna(data['Weighted_Price'].median())\n"
      ],
      "execution_count": 115,
      "outputs": []
    },
    {
      "cell_type": "code",
      "metadata": {
        "id": "IE1FxsLOGuuV"
      },
      "source": [
        "hist =  hist.dropna(axis = 0, how = 'any')"
      ],
      "execution_count": 116,
      "outputs": []
    },
    {
      "cell_type": "code",
      "metadata": {
        "colab": {
          "base_uri": "https://localhost:8080/"
        },
        "id": "IgQGkakM73iA",
        "outputId": "3f8f7769-ffc0-429a-e3a3-346ac356f108"
      },
      "source": [
        "hist.isnull().sum() #Should be zero"
      ],
      "execution_count": 117,
      "outputs": [
        {
          "output_type": "execute_result",
          "data": {
            "text/plain": [
              "Open                 0\n",
              "High                 0\n",
              "Low                  0\n",
              "Close                0\n",
              "Volume_(BTC)         0\n",
              "Volume_(Currency)    0\n",
              "Weighted_Price       0\n",
              "dtype: int64"
            ]
          },
          "metadata": {
            "tags": []
          },
          "execution_count": 117
        }
      ]
    },
    {
      "cell_type": "markdown",
      "metadata": {
        "id": "VDIsQ7q_KXfW"
      },
      "source": [
        "# Train-Test split"
      ]
    },
    {
      "cell_type": "code",
      "metadata": {
        "id": "QX8skVCoIkaN"
      },
      "source": [
        "def train_test_split(array, test_size=0.2):\n",
        "    split_row = len(array) - int(test_size * len(array))\n",
        "    train_data = array[:split_row]\n",
        "    test_data = array[split_row:]\n",
        "    return train_data, test_data\n",
        "    \n",
        "train, test = train_test_split(hist, test_size=0.2)"
      ],
      "execution_count": 118,
      "outputs": []
    },
    {
      "cell_type": "code",
      "metadata": {
        "colab": {
          "base_uri": "https://localhost:8080/"
        },
        "id": "_HeeQU88yVLU",
        "outputId": "3e1d811a-e230-4801-8c93-44c3b23ca756"
      },
      "source": [
        "target_col = 'Close'\n",
        "target_index = 3\n",
        "hist.iloc[1:5, target_index]"
      ],
      "execution_count": 119,
      "outputs": [
        {
          "output_type": "execute_result",
          "data": {
            "text/plain": [
              "478     4.39\n",
              "547     4.57\n",
              "548     4.58\n",
              "1224    4.58\n",
              "Name: Close, dtype: float64"
            ]
          },
          "metadata": {
            "tags": []
          },
          "execution_count": 119
        }
      ]
    },
    {
      "cell_type": "code",
      "metadata": {
        "id": "tjrdb0XUIpEv"
      },
      "source": [
        "def line_plot(line1, line2, label1=None, label2=None, title='Train-Test split', lw=2):\n",
        "    fig, ax = plt.subplots(1, figsize=(16, 7))\n",
        "    ax.plot(line1, label=label1, linewidth=lw)\n",
        "    ax.plot(line2, label=label2, linewidth=lw)\n",
        "    ax.set_ylabel('Close Price', fontsize=14)\n",
        "    ax.set_title(title, fontsize=16)\n",
        "    ax.legend(loc='best', fontsize=16)"
      ],
      "execution_count": 120,
      "outputs": []
    },
    {
      "cell_type": "code",
      "metadata": {
        "id": "Pa7tlx6zMUoN"
      },
      "source": [
        "#line_plot(train[target_col], test[target_col], 'training', 'Train-Test split', title='')"
      ],
      "execution_count": 121,
      "outputs": []
    },
    {
      "cell_type": "code",
      "metadata": {
        "id": "UP7c1EkU7t3p"
      },
      "source": [
        "plot_cols = ['Open', 'High', 'Close']\n",
        "plot_features = hist[plot_cols]\n"
      ],
      "execution_count": 122,
      "outputs": []
    },
    {
      "cell_type": "code",
      "metadata": {
        "id": "pQPoaYyyMX97"
      },
      "source": [
        "#_ = plot_features.plot(subplots=True)"
      ],
      "execution_count": 123,
      "outputs": []
    },
    {
      "cell_type": "code",
      "metadata": {
        "id": "VHjKZmMX_vVt"
      },
      "source": [
        "plot_cols = ['Volume_(BTC)', 'Volume_(Currency)', 'Weighted_Price']\n",
        "plot_features = hist[plot_cols]\n"
      ],
      "execution_count": 124,
      "outputs": []
    },
    {
      "cell_type": "code",
      "metadata": {
        "id": "ff2qEVMzMZXZ"
      },
      "source": [
        "#_ = plot_features.plot(subplots=True)"
      ],
      "execution_count": 125,
      "outputs": []
    },
    {
      "cell_type": "markdown",
      "metadata": {
        "id": "bLeM9qMQKKd3"
      },
      "source": [
        "# Normalization"
      ]
    },
    {
      "cell_type": "code",
      "metadata": {
        "id": "Ndl8efeUBUqW"
      },
      "source": [
        "#scaler = StandardScaler()\n",
        "#hist_array = scaler.fit_transform(hist)\n",
        "#hist = pd.DataFrame(hist_array, columns=hist_copy.columns.drop('Timestamp'))"
      ],
      "execution_count": 126,
      "outputs": []
    },
    {
      "cell_type": "code",
      "metadata": {
        "id": "rLaja2LVjwZO"
      },
      "source": [
        "target = hist[target_col].to_numpy()\n",
        "target = target.reshape(-1,1)\n",
        "scaler = MinMaxScaler(feature_range = (0,1))\n",
        "\n",
        "scaler2 = MinMaxScaler(feature_range = (0,1))\n",
        "scaler2.fit(target)\n",
        "\n",
        "hist_array = scaler.fit_transform(hist)\n",
        "hist = pd.DataFrame(hist_array, columns=hist_copy.columns.drop(\"Timestamp\"))"
      ],
      "execution_count": 127,
      "outputs": []
    },
    {
      "cell_type": "code",
      "metadata": {
        "colab": {
          "base_uri": "https://localhost:8080/"
        },
        "id": "eK-apa1U5Zey",
        "outputId": "ec62149b-98f7-4f65-c6b9-50c07378de2b"
      },
      "source": [
        "target.shape"
      ],
      "execution_count": 128,
      "outputs": [
        {
          "output_type": "execute_result",
          "data": {
            "text/plain": [
              "(3484305, 1)"
            ]
          },
          "metadata": {
            "tags": []
          },
          "execution_count": 128
        }
      ]
    },
    {
      "cell_type": "code",
      "metadata": {
        "id": "3meFUpwfBLm0",
        "colab": {
          "base_uri": "https://localhost:8080/",
          "height": 204
        },
        "outputId": "9aa4cf86-e637-40e2-f419-8e9497210019"
      },
      "source": [
        "hist.tail()"
      ],
      "execution_count": 129,
      "outputs": [
        {
          "output_type": "execute_result",
          "data": {
            "text/html": [
              "<div>\n",
              "<style scoped>\n",
              "    .dataframe tbody tr th:only-of-type {\n",
              "        vertical-align: middle;\n",
              "    }\n",
              "\n",
              "    .dataframe tbody tr th {\n",
              "        vertical-align: top;\n",
              "    }\n",
              "\n",
              "    .dataframe thead th {\n",
              "        text-align: right;\n",
              "    }\n",
              "</style>\n",
              "<table border=\"1\" class=\"dataframe\">\n",
              "  <thead>\n",
              "    <tr style=\"text-align: right;\">\n",
              "      <th></th>\n",
              "      <th>Open</th>\n",
              "      <th>High</th>\n",
              "      <th>Low</th>\n",
              "      <th>Close</th>\n",
              "      <th>Volume_(BTC)</th>\n",
              "      <th>Volume_(Currency)</th>\n",
              "      <th>Weighted_Price</th>\n",
              "    </tr>\n",
              "  </thead>\n",
              "  <tbody>\n",
              "    <tr>\n",
              "      <th>3484300</th>\n",
              "      <td>0.993243</td>\n",
              "      <td>0.993763</td>\n",
              "      <td>0.993853</td>\n",
              "      <td>0.994207</td>\n",
              "      <td>0.000165</td>\n",
              "      <td>0.002662</td>\n",
              "      <td>0.993808</td>\n",
              "    </tr>\n",
              "    <tr>\n",
              "      <th>3484301</th>\n",
              "      <td>0.994207</td>\n",
              "      <td>0.994952</td>\n",
              "      <td>0.995365</td>\n",
              "      <td>0.995161</td>\n",
              "      <td>0.000405</td>\n",
              "      <td>0.006541</td>\n",
              "      <td>0.995189</td>\n",
              "    </tr>\n",
              "    <tr>\n",
              "      <th>3484302</th>\n",
              "      <td>0.994934</td>\n",
              "      <td>0.996215</td>\n",
              "      <td>0.996092</td>\n",
              "      <td>0.996049</td>\n",
              "      <td>0.000421</td>\n",
              "      <td>0.006819</td>\n",
              "      <td>0.996314</td>\n",
              "    </tr>\n",
              "    <tr>\n",
              "      <th>3484303</th>\n",
              "      <td>0.997005</td>\n",
              "      <td>0.996594</td>\n",
              "      <td>0.996683</td>\n",
              "      <td>0.995997</td>\n",
              "      <td>0.001253</td>\n",
              "      <td>0.020283</td>\n",
              "      <td>0.996819</td>\n",
              "    </tr>\n",
              "    <tr>\n",
              "      <th>3484304</th>\n",
              "      <td>0.996407</td>\n",
              "      <td>0.997179</td>\n",
              "      <td>0.997568</td>\n",
              "      <td>0.997624</td>\n",
              "      <td>0.000984</td>\n",
              "      <td>0.015934</td>\n",
              "      <td>0.997353</td>\n",
              "    </tr>\n",
              "  </tbody>\n",
              "</table>\n",
              "</div>"
            ],
            "text/plain": [
              "             Open      High  ...  Volume_(Currency)  Weighted_Price\n",
              "3484300  0.993243  0.993763  ...           0.002662        0.993808\n",
              "3484301  0.994207  0.994952  ...           0.006541        0.995189\n",
              "3484302  0.994934  0.996215  ...           0.006819        0.996314\n",
              "3484303  0.997005  0.996594  ...           0.020283        0.996819\n",
              "3484304  0.996407  0.997179  ...           0.015934        0.997353\n",
              "\n",
              "[5 rows x 7 columns]"
            ]
          },
          "metadata": {
            "tags": []
          },
          "execution_count": 129
        }
      ]
    },
    {
      "cell_type": "code",
      "metadata": {
        "id": "HaAOCANJBQRM",
        "colab": {
          "base_uri": "https://localhost:8080/",
          "height": 204
        },
        "outputId": "70e1638e-9e38-4c1d-d7d9-02ffcab81e55"
      },
      "source": [
        "hist.tail()"
      ],
      "execution_count": 130,
      "outputs": [
        {
          "output_type": "execute_result",
          "data": {
            "text/html": [
              "<div>\n",
              "<style scoped>\n",
              "    .dataframe tbody tr th:only-of-type {\n",
              "        vertical-align: middle;\n",
              "    }\n",
              "\n",
              "    .dataframe tbody tr th {\n",
              "        vertical-align: top;\n",
              "    }\n",
              "\n",
              "    .dataframe thead th {\n",
              "        text-align: right;\n",
              "    }\n",
              "</style>\n",
              "<table border=\"1\" class=\"dataframe\">\n",
              "  <thead>\n",
              "    <tr style=\"text-align: right;\">\n",
              "      <th></th>\n",
              "      <th>Open</th>\n",
              "      <th>High</th>\n",
              "      <th>Low</th>\n",
              "      <th>Close</th>\n",
              "      <th>Volume_(BTC)</th>\n",
              "      <th>Volume_(Currency)</th>\n",
              "      <th>Weighted_Price</th>\n",
              "    </tr>\n",
              "  </thead>\n",
              "  <tbody>\n",
              "    <tr>\n",
              "      <th>3484300</th>\n",
              "      <td>0.993243</td>\n",
              "      <td>0.993763</td>\n",
              "      <td>0.993853</td>\n",
              "      <td>0.994207</td>\n",
              "      <td>0.000165</td>\n",
              "      <td>0.002662</td>\n",
              "      <td>0.993808</td>\n",
              "    </tr>\n",
              "    <tr>\n",
              "      <th>3484301</th>\n",
              "      <td>0.994207</td>\n",
              "      <td>0.994952</td>\n",
              "      <td>0.995365</td>\n",
              "      <td>0.995161</td>\n",
              "      <td>0.000405</td>\n",
              "      <td>0.006541</td>\n",
              "      <td>0.995189</td>\n",
              "    </tr>\n",
              "    <tr>\n",
              "      <th>3484302</th>\n",
              "      <td>0.994934</td>\n",
              "      <td>0.996215</td>\n",
              "      <td>0.996092</td>\n",
              "      <td>0.996049</td>\n",
              "      <td>0.000421</td>\n",
              "      <td>0.006819</td>\n",
              "      <td>0.996314</td>\n",
              "    </tr>\n",
              "    <tr>\n",
              "      <th>3484303</th>\n",
              "      <td>0.997005</td>\n",
              "      <td>0.996594</td>\n",
              "      <td>0.996683</td>\n",
              "      <td>0.995997</td>\n",
              "      <td>0.001253</td>\n",
              "      <td>0.020283</td>\n",
              "      <td>0.996819</td>\n",
              "    </tr>\n",
              "    <tr>\n",
              "      <th>3484304</th>\n",
              "      <td>0.996407</td>\n",
              "      <td>0.997179</td>\n",
              "      <td>0.997568</td>\n",
              "      <td>0.997624</td>\n",
              "      <td>0.000984</td>\n",
              "      <td>0.015934</td>\n",
              "      <td>0.997353</td>\n",
              "    </tr>\n",
              "  </tbody>\n",
              "</table>\n",
              "</div>"
            ],
            "text/plain": [
              "             Open      High  ...  Volume_(Currency)  Weighted_Price\n",
              "3484300  0.993243  0.993763  ...           0.002662        0.993808\n",
              "3484301  0.994207  0.994952  ...           0.006541        0.995189\n",
              "3484302  0.994934  0.996215  ...           0.006819        0.996314\n",
              "3484303  0.997005  0.996594  ...           0.020283        0.996819\n",
              "3484304  0.996407  0.997179  ...           0.015934        0.997353\n",
              "\n",
              "[5 rows x 7 columns]"
            ]
          },
          "metadata": {
            "tags": []
          },
          "execution_count": 130
        }
      ]
    },
    {
      "cell_type": "code",
      "metadata": {
        "id": "hF5ZkYaTLfXu",
        "colab": {
          "base_uri": "https://localhost:8080/"
        },
        "outputId": "a27332ae-b7c6-4f57-f46f-b76f31055d65"
      },
      "source": [
        "hist.shape"
      ],
      "execution_count": 131,
      "outputs": [
        {
          "output_type": "execute_result",
          "data": {
            "text/plain": [
              "(3484305, 7)"
            ]
          },
          "metadata": {
            "tags": []
          },
          "execution_count": 131
        }
      ]
    },
    {
      "cell_type": "markdown",
      "metadata": {
        "id": "-1j-7so7KFGK"
      },
      "source": [
        "# Data Windowing"
      ]
    },
    {
      "cell_type": "code",
      "metadata": {
        "id": "NdV2hHlFBWBd"
      },
      "source": [
        "def extract_window_data(array, window_len=30):\n",
        "  X = []\n",
        "  y  = []\n",
        "  for i in range(window_len, len(array)-window_len):\n",
        "      X.append(array[i-window_len:i])\n",
        "      y.append(array[i:i+ int(window_len/3), target_index])\n",
        "  X, y = np.array(X), np.array(y)\n",
        "  return X, y"
      ],
      "execution_count": 132,
      "outputs": []
    },
    {
      "cell_type": "code",
      "metadata": {
        "id": "JRVljA7gB_9F"
      },
      "source": [
        "def prepare_data(array, target_col, window_len=30, test_size=0.2):\n",
        "    #We split the dataset into train and test\n",
        "    train_data, test_data = train_test_split(array, test_size=test_size)\n",
        "    #We extract all the possible windows\n",
        "    X_train, y_train = extract_window_data(train_data, window_len)\n",
        "    #We extract all the possible windows\n",
        "    X_test, y_test = extract_window_data(test_data, window_len)\n",
        "   \n",
        "    return X_train, y_train, X_test, y_test"
      ],
      "execution_count": 133,
      "outputs": []
    },
    {
      "cell_type": "markdown",
      "metadata": {
        "id": "7i8L8KppJ_vN"
      },
      "source": [
        "# LSTM Model"
      ]
    },
    {
      "cell_type": "code",
      "metadata": {
        "id": "zkxuMfDGDuKk"
      },
      "source": [
        "def build_lstm_model(window_len, num_features, output_size, neurons=50, activ_func='linear', dropout=0.2, loss='mse', optimizer='adam'):\n",
        "    model = Sequential()\n",
        "    model.add(LSTM(neurons, input_shape =(window_len, num_features)))\n",
        "    model.add(Dropout(dropout))\n",
        "    model.add(Dense(units=output_size))\n",
        "    model.add(Activation(activ_func))\n",
        "    model.compile(loss=loss, optimizer=optimizer, metrics=['mae'])\n",
        "    \n",
        "    return model"
      ],
      "execution_count": 134,
      "outputs": []
    },
    {
      "cell_type": "markdown",
      "metadata": {
        "id": "Mo_3kxcrEFWy"
      },
      "source": [
        "**Parameters**"
      ]
    },
    {
      "cell_type": "code",
      "metadata": {
        "id": "j-DpMP43D2VL"
      },
      "source": [
        "np.random.seed(42)\n",
        "window_len = 30\n",
        "test_size = 0.2\n",
        "lstm_neurons = 100\n",
        "epochs = 2\n",
        "num_features = len(hist.columns)\n",
        "activ_func = 'linear'\n",
        "batch_size = 256\n",
        "loss = 'mape'\n",
        "dropout = 0.2\n",
        "output_size = 10\n",
        "optimizer = keras.optimizers.Adam(learning_rate=0.00003)"
      ],
      "execution_count": 135,
      "outputs": []
    },
    {
      "cell_type": "code",
      "metadata": {
        "colab": {
          "base_uri": "https://localhost:8080/"
        },
        "id": "PVormDA57C60",
        "outputId": "88bd352c-d26d-493e-c6db-61a37d8b9833"
      },
      "source": [
        "hist_array.shape"
      ],
      "execution_count": 136,
      "outputs": [
        {
          "output_type": "execute_result",
          "data": {
            "text/plain": [
              "(3484305, 7)"
            ]
          },
          "metadata": {
            "tags": []
          },
          "execution_count": 136
        }
      ]
    },
    {
      "cell_type": "code",
      "metadata": {
        "id": "PPBoPrGuD72Y"
      },
      "source": [
        "X_train, y_train, X_test, y_test = prepare_data(hist_array, target_col, window_len=window_len, test_size=test_size)"
      ],
      "execution_count": 137,
      "outputs": []
    },
    {
      "cell_type": "code",
      "metadata": {
        "id": "98XPDeauU_IZ",
        "colab": {
          "base_uri": "https://localhost:8080/"
        },
        "outputId": "6982eda5-cf31-4a3c-a1ea-b6f8c60b5dc5"
      },
      "source": [
        "X_train.shape"
      ],
      "execution_count": 138,
      "outputs": [
        {
          "output_type": "execute_result",
          "data": {
            "text/plain": [
              "(2787384, 30, 7)"
            ]
          },
          "metadata": {
            "tags": []
          },
          "execution_count": 138
        }
      ]
    },
    {
      "cell_type": "code",
      "metadata": {
        "id": "LJVY2lLvVKz_",
        "colab": {
          "base_uri": "https://localhost:8080/"
        },
        "outputId": "ee2e84bd-8877-412d-ffdb-8f14b5149643"
      },
      "source": [
        "y_train.shape"
      ],
      "execution_count": 139,
      "outputs": [
        {
          "output_type": "execute_result",
          "data": {
            "text/plain": [
              "(2787384, 10)"
            ]
          },
          "metadata": {
            "tags": []
          },
          "execution_count": 139
        }
      ]
    },
    {
      "cell_type": "code",
      "metadata": {
        "id": "vbmlGEVmG6im",
        "colab": {
          "base_uri": "https://localhost:8080/"
        },
        "outputId": "af324b0d-c460-41fb-f700-9f0fd7e92165"
      },
      "source": [
        "model = build_lstm_model(window_len, num_features, output_size=output_size, neurons=lstm_neurons, dropout=dropout, loss=loss, optimizer=optimizer)\n",
        "model.summary()"
      ],
      "execution_count": 140,
      "outputs": [
        {
          "output_type": "stream",
          "text": [
            "Model: \"sequential\"\n",
            "_________________________________________________________________\n",
            "Layer (type)                 Output Shape              Param #   \n",
            "=================================================================\n",
            "lstm (LSTM)                  (None, 100)               43200     \n",
            "_________________________________________________________________\n",
            "dropout (Dropout)            (None, 100)               0         \n",
            "_________________________________________________________________\n",
            "dense (Dense)                (None, 10)                1010      \n",
            "_________________________________________________________________\n",
            "activation (Activation)      (None, 10)                0         \n",
            "=================================================================\n",
            "Total params: 44,210\n",
            "Trainable params: 44,210\n",
            "Non-trainable params: 0\n",
            "_________________________________________________________________\n"
          ],
          "name": "stdout"
        }
      ]
    },
    {
      "cell_type": "code",
      "metadata": {
        "id": "LLzKhxrsE6Am",
        "colab": {
          "base_uri": "https://localhost:8080/"
        },
        "outputId": "e68dc20f-523d-47d9-e533-92a4205d8135"
      },
      "source": [
        "history = model.fit(X_train, y_train, batch_size = batch_size, epochs=epochs, verbose=1, shuffle=True)"
      ],
      "execution_count": 141,
      "outputs": [
        {
          "output_type": "stream",
          "text": [
            "Epoch 1/2\n",
            "10889/10889 [==============================] - 1127s 102ms/step - loss: 23.4989 - mae: 0.0174\n",
            "Epoch 2/2\n",
            "10889/10889 [==============================] - 1110s 102ms/step - loss: 14.5876 - mae: 0.0073\n"
          ],
          "name": "stdout"
        }
      ]
    },
    {
      "cell_type": "code",
      "metadata": {
        "id": "ja2lE3L8JqnH",
        "colab": {
          "base_uri": "https://localhost:8080/"
        },
        "outputId": "9ee337a6-0326-44b6-bc18-fdbbc61f9d5a"
      },
      "source": [
        "history.history"
      ],
      "execution_count": 142,
      "outputs": [
        {
          "output_type": "execute_result",
          "data": {
            "text/plain": [
              "{'loss': [18.479122161865234, 15.206027030944824],\n",
              " 'mae': [0.010892629623413086, 0.006913251709192991]}"
            ]
          },
          "metadata": {
            "tags": []
          },
          "execution_count": 142
        }
      ]
    },
    {
      "cell_type": "code",
      "metadata": {
        "id": "U2zMdqPsKN36"
      },
      "source": [
        "results = model.evaluate(X_test, y_test)"
      ],
      "execution_count": null,
      "outputs": []
    },
    {
      "cell_type": "code",
      "metadata": {
        "id": "PJVVyOmzFHPn"
      },
      "source": [
        "preds = model.predict(X_test)"
      ],
      "execution_count": null,
      "outputs": []
    },
    {
      "cell_type": "code",
      "metadata": {
        "id": "CYPQhIo52COr"
      },
      "source": [
        "preds.shape"
      ],
      "execution_count": null,
      "outputs": []
    },
    {
      "cell_type": "code",
      "metadata": {
        "id": "7AhjAG5BbG2R"
      },
      "source": [
        "predictions = scaler2.inverse_transform(preds)\n",
        "real_values = scaler2.inverse_transform(y_test)"
      ],
      "execution_count": null,
      "outputs": []
    },
    {
      "cell_type": "code",
      "metadata": {
        "id": "Dq6JRUhNTLPs"
      },
      "source": [
        "def plot(real_values, predictions,  plot_col='Close', max_subplots=5, print_step  = 100000):\n",
        "  plt.figure(figsize=(12, 8))\n",
        "  x = []\n",
        "  for i in range(10):\n",
        "    x.append(i+1) \n",
        "  for n in range(max_subplots):\n",
        "    plt.subplot(max_subplots, 1, n+1)\n",
        "    plt.ylabel(f'{plot_col} [normed]')\n",
        "    plt.scatter(x, real_values[print_step * n], edgecolors='k', label='Labels', c='#2ca02c', s=64)\n",
        "    plt.scatter(x, predictions[print_step * n], marker='X', edgecolors='k', label='Predictions',c='#ff7f0e', s=64)\n",
        "\n",
        "  plt.xlabel('Time [10min]')\n"
      ],
      "execution_count": null,
      "outputs": []
    },
    {
      "cell_type": "code",
      "metadata": {
        "id": "3rLB25tZbxa0"
      },
      "source": [
        "# Visualizing the results\n",
        "plt.plot(real_values, color = 'red', label = 'Real')\n",
        "plt.plot(predictions, color = 'blue', label = 'Predicted')\n",
        "plt.title('Bitcoin Close Price min')\n",
        "plt.ylabel('Close price')\n",
        "plt.show()"
      ],
      "execution_count": null,
      "outputs": []
    },
    {
      "cell_type": "code",
      "metadata": {
        "id": "JUjj4QheX8le"
      },
      "source": [
        " plot(real_values, predictions,  plot_col='Close', max_subplots=6, print_step = 100000)"
      ],
      "execution_count": null,
      "outputs": []
    },
    {
      "cell_type": "code",
      "metadata": {
        "id": "YfaRcsqDib42"
      },
      "source": [
        " plot(real_values, predictions,  plot_col='Close', max_subplots=2, print_step = 690000)"
      ],
      "execution_count": null,
      "outputs": []
    },
    {
      "cell_type": "code",
      "metadata": {
        "id": "_kykvNVKOTbh"
      },
      "source": [
        "# Calling `save('my_model.h5')` creates a h5 file `my_model.h5`.\n",
        "model.save(\"/content/drive/My Drive/MachineLearningProject/nn_for_bitcoin_price_20min.h5\")"
      ],
      "execution_count": null,
      "outputs": []
    },
    {
      "cell_type": "markdown",
      "metadata": {
        "id": "Ed-1JyAAJ0ma"
      },
      "source": [
        "\n",
        "\n",
        "\n",
        "# Convolutional model"
      ]
    },
    {
      "cell_type": "code",
      "metadata": {
        "id": "G5oY0dlJZzCa"
      },
      "source": [
        "np.random.seed(42)\n",
        "window_len = 30\n",
        "test_size = 0.05\n",
        "epochs = 5\n",
        "num_features = len(hist.columns)\n",
        "batch_size = 128\n",
        "loss = 'mape'\n",
        "dropout = 0.2\n",
        "output_size = 10\n",
        "optimizer = keras.optimizers.Adam(learning_rate=0.00001)"
      ],
      "execution_count": null,
      "outputs": []
    },
    {
      "cell_type": "code",
      "metadata": {
        "id": "ykR92AqVH1bo"
      },
      "source": [
        "def build_conv_model(output_size, neurons=512, loss='mape', optimizer='adam'):\n",
        "    CONV_WIDTH = 3\n",
        "    model = Sequential()\n",
        "    model.add(tf.keras.layers.Lambda(lambda x: x[:, -CONV_WIDTH:, :]))\n",
        "    model.add(tf.keras.layers.Conv1D(neurons, activation='relu', kernel_size=(CONV_WIDTH)))\n",
        "    model.add(tf.keras.layers.Dense(output_size, kernel_initializer=tf.initializers.zeros()))\n",
        "    model.add(tf.keras.layers.Reshape([output_size]))\n",
        "    model.compile(loss=loss, optimizer=optimizer, metrics=['mape'])\n",
        "    return model"
      ],
      "execution_count": null,
      "outputs": []
    },
    {
      "cell_type": "code",
      "metadata": {
        "id": "c3z7u1UCH4NR"
      },
      "source": [
        "model = build_conv_model(output_size=output_size, loss=loss, optimizer=optimizer)"
      ],
      "execution_count": null,
      "outputs": []
    },
    {
      "cell_type": "code",
      "metadata": {
        "id": "f37bhjoBJF9n"
      },
      "source": [
        "history = model.fit(X_train, y_train, batch_size = batch_size, epochs=epochs, verbose=1, shuffle=True)"
      ],
      "execution_count": null,
      "outputs": []
    },
    {
      "cell_type": "code",
      "metadata": {
        "id": "YjzS3HfPJd9-"
      },
      "source": [
        "# Calling `save('my_model.h5')` creates a h5 file `my_model.h5`.\n",
        "model.save(\"/content/drive/My Drive/PredictionModel/last_7_days_cnn_for_bitcoin_price_10min.h5\")"
      ],
      "execution_count": null,
      "outputs": []
    },
    {
      "cell_type": "code",
      "metadata": {
        "id": "Wd5M_VkHH8mv"
      },
      "source": [
        "results = model.evaluate(X_test, y_test)\n",
        "print(\"test loss:\", results)"
      ],
      "execution_count": null,
      "outputs": []
    },
    {
      "cell_type": "code",
      "metadata": {
        "id": "hXpg4j6qJBw5"
      },
      "source": [
        "preds = model.predict(X_test)"
      ],
      "execution_count": null,
      "outputs": []
    },
    {
      "cell_type": "code",
      "metadata": {
        "id": "ZHHHateLZG2A"
      },
      "source": [
        "y_test.shape"
      ],
      "execution_count": null,
      "outputs": []
    },
    {
      "cell_type": "code",
      "metadata": {
        "id": "HJlUkxlCJJKW"
      },
      "source": [
        "predictions = scaler2.inverse_transform(preds)\n",
        "real_values = scaler2.inverse_transform(y_test)"
      ],
      "execution_count": null,
      "outputs": []
    },
    {
      "cell_type": "code",
      "metadata": {
        "id": "rn2_Ss6We1fS"
      },
      "source": [
        "predictions.shape"
      ],
      "execution_count": null,
      "outputs": []
    },
    {
      "cell_type": "code",
      "metadata": {
        "id": "H-4oUxCAJMQg"
      },
      "source": [
        "# Visualizing the results\n",
        "plt.plot(y_test, color = 'red', label = 'Real')\n",
        "plt.plot(preds, color = 'blue', label = 'Predicted')\n",
        "plt.title('Bitcoin Close Price min')\n",
        "plt.ylabel('Close price')\n",
        "plt.show()"
      ],
      "execution_count": null,
      "outputs": []
    },
    {
      "cell_type": "code",
      "metadata": {
        "id": "JFrrpWgCYEqz"
      },
      "source": [
        "# Visualizing the results\n",
        "plt.plot(real_values[70000], color = 'grey', label = 'Real')\n",
        "plt.plot(predictions[70000], color = 'blue', label = 'Predicted')\n",
        "plt.title('Bitcoin Close Price min')\n",
        "plt.ylabel('Close price')\n",
        "plt.show()"
      ],
      "execution_count": null,
      "outputs": []
    },
    {
      "cell_type": "code",
      "metadata": {
        "id": "hXXLIP-TL-Iu"
      },
      "source": [
        "# Visualizing the results\n",
        "plt.plot(real_values[-30], color = 'grey', label = 'Real')\n",
        "plt.plot(predictions[-30], color = 'blue', label = 'Predicted')\n",
        "plt.title('Bitcoin Close Price min')\n",
        "plt.ylabel('Close price')\n",
        "plt.show()"
      ],
      "execution_count": null,
      "outputs": []
    },
    {
      "cell_type": "code",
      "metadata": {
        "id": "BXuQvvwnJTbC"
      },
      "source": [
        " plot(real_values, predictions,  plot_col='Close', max_subplots=6, print_step = 100000)"
      ],
      "execution_count": null,
      "outputs": []
    },
    {
      "cell_type": "code",
      "metadata": {
        "id": "ENT9Ekz_JaJr"
      },
      "source": [
        " plot(real_values, predictions,  plot_col='Close', max_subplots=2, print_step = 690000)"
      ],
      "execution_count": null,
      "outputs": []
    },
    {
      "cell_type": "code",
      "metadata": {
        "id": "ifdKZlFAVeRF"
      },
      "source": [
        " plot(real_values, predictions,  plot_col='Close', max_subplots=5, print_step = 50000)"
      ],
      "execution_count": null,
      "outputs": []
    },
    {
      "cell_type": "code",
      "metadata": {
        "id": "UuZ4HyVKVr_9"
      },
      "source": [
        " plot(real_values, predictions,  plot_col='Close', max_subplots=3, print_step = 120000)"
      ],
      "execution_count": null,
      "outputs": []
    }
  ]
}